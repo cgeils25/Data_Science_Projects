{
 "cells": [
  {
   "cell_type": "code",
   "execution_count": 2,
   "id": "1f1c7ccb-0edd-41a6-b4bd-a7f8e306d623",
   "metadata": {},
   "outputs": [],
   "source": [
    "import torch\n",
    "import matplotlib.pyplot as plt\n",
    "import seaborn as sns\n",
    "import pickle\n",
    "import os\n",
    "import shutil\n",
    "from torch.utils.data import dataset\n",
    "from torch.utils.data import DataLoader\n",
    "from torchvision.transforms import ToTensor"
   ]
  },
  {
   "cell_type": "markdown",
   "id": "e2f1256d-d7b2-4777-8911-fe455338d34b",
   "metadata": {},
   "source": [
    "# Loading Data"
   ]
  },
  {
   "cell_type": "code",
   "execution_count": null,
   "id": "d0ef7e43-463b-4df8-8aa4-5076808a0377",
   "metadata": {},
   "outputs": [],
   "source": [
    "data_directory = '../../data/white_blood_cell_images/'\n",
    "data_subdirects = [f.path for f in os.scandir(data_directory) if f.is_dir()]\n",
    "data_subdirects"
   ]
  },
  {
   "cell_type": "code",
   "execution_count": null,
   "id": "1fe6063d-f816-4414-99ad-82b5286417ff",
   "metadata": {},
   "outputs": [],
   "source": [
    "totals = {}\n",
    "for directory in data_subdirects:\n",
    "    label = directory.split('/')[-1]  # 'basophil', 'neutrophil', etc.\n",
    "    totals[label] = len(os.listdir(directory))"
   ]
  },
  {
   "cell_type": "code",
   "execution_count": null,
   "id": "d963ff0d-6754-42b5-9a30-894d1c921dad",
   "metadata": {},
   "outputs": [],
   "source": [
    "totals"
   ]
  },
  {
   "cell_type": "markdown",
   "id": "4b765e6d-0135-4c4b-9769-476641d48925",
   "metadata": {},
   "source": [
    "dataset is unbalanced"
   ]
  },
  {
   "cell_type": "code",
   "execution_count": null,
   "id": "eb265781-7185-40d1-858a-e450360d1749",
   "metadata": {},
   "outputs": [],
   "source": [
    "# creating labels. I'm assuming I'll load the images in the order given by the directories\n",
    "labels = []\n",
    "for i, cell_type in enumerate(totals):\n",
    "    for j in range(totals[cell_type]):\n",
    "        label = torch.zeros(5)\n",
    "        label[i] = 1\n",
    "        labels.append(label)"
   ]
  },
  {
   "cell_type": "code",
   "execution_count": null,
   "id": "1f196240-e55c-40e2-b5d4-b59cda83eb51",
   "metadata": {},
   "outputs": [],
   "source": [
    "len(labels)"
   ]
  },
  {
   "cell_type": "code",
   "execution_count": null,
   "id": "a2a327ca-b7aa-4ea6-b0a4-5c1aa35cf90b",
   "metadata": {},
   "outputs": [],
   "source": [
    "labels[16000]"
   ]
  },
  {
   "cell_type": "code",
   "execution_count": null,
   "id": "62275cf4-bd59-43da-8e25-e1510d280371",
   "metadata": {},
   "outputs": [],
   "source": [
    "dataset"
   ]
  },
  {
   "cell_type": "code",
   "execution_count": 2,
   "id": "19d27da9-bf12-4a3f-8619-26202caf8e4e",
   "metadata": {},
   "outputs": [
    {
     "name": "stdout",
     "output_type": "stream",
     "text": [
      "# packages in environment at /Users/christian_g/anaconda3/envs/data_science:\n",
      "#\n",
      "# Name                    Version                   Build  Channel\n",
      "torchvision               0.18.0          cpu_py312ha63f1fc_0    conda-forge\n"
     ]
    }
   ],
   "source": [
    "!conda list torchvision"
   ]
  },
  {
   "cell_type": "code",
   "execution_count": 6,
   "id": "5356aa58-433a-4263-8981-ab2d819e4809",
   "metadata": {},
   "outputs": [
    {
     "ename": "ModuleNotFoundError",
     "evalue": "No module named 'torchvision'",
     "output_type": "error",
     "traceback": [
      "\u001b[0;31m---------------------------------------------------------------------------\u001b[0m",
      "\u001b[0;31mModuleNotFoundError\u001b[0m                       Traceback (most recent call last)",
      "Cell \u001b[0;32mIn[6], line 1\u001b[0m\n\u001b[0;32m----> 1\u001b[0m \u001b[38;5;28;01mimport\u001b[39;00m \u001b[38;5;21;01mtorchvision\u001b[39;00m\n",
      "\u001b[0;31mModuleNotFoundError\u001b[0m: No module named 'torchvision'"
     ]
    }
   ],
   "source": [
    "import torchvision"
   ]
  }
 ],
 "metadata": {
  "kernelspec": {
   "display_name": "Python 3 (ipykernel)",
   "language": "python",
   "name": "python3"
  },
  "language_info": {
   "codemirror_mode": {
    "name": "ipython",
    "version": 3
   },
   "file_extension": ".py",
   "mimetype": "text/x-python",
   "name": "python",
   "nbconvert_exporter": "python",
   "pygments_lexer": "ipython3",
   "version": "3.12.3"
  }
 },
 "nbformat": 4,
 "nbformat_minor": 5
}
